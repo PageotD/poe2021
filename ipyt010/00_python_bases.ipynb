{
 "cells": [
  {
   "cell_type": "markdown",
   "id": "aaf51da5",
   "metadata": {},
   "source": [
    "_IPYT010_"
   ]
  },
  {
   "cell_type": "markdown",
   "id": "d02c583c",
   "metadata": {},
   "source": [
    "# Python: les bases"
   ]
  },
  {
   "cell_type": "markdown",
   "id": "4dd15bab",
   "metadata": {},
   "source": [
    "**/!\\ Tous les exemples ci-après sont réalisés en mode \"console\".**"
   ]
  },
  {
   "cell_type": "markdown",
   "id": "b7fe1bbd",
   "metadata": {},
   "source": [
    "## 1-\"Hello world!\""
   ]
  },
  {
   "cell_type": "markdown",
   "id": "f9656f66",
   "metadata": {},
   "source": [
    "Comparé à d'autres langages de programmation, le `Python` est relativement simple. L'exemple typique consistant à afficher le message \"Hello world!\" est produit avec la ligne de code suivante:"
   ]
  },
  {
   "cell_type": "code",
   "execution_count": 1,
   "id": "9ef2fd8f",
   "metadata": {},
   "outputs": [
    {
     "name": "stdout",
     "output_type": "stream",
     "text": [
      "Hello world!\n"
     ]
    }
   ],
   "source": [
    "print(\"Hello world!\")"
   ]
  },
  {
   "cell_type": "markdown",
   "id": "6fcbed0c",
   "metadata": {},
   "source": [
    "## 2-Les opérateurs de base"
   ]
  },
  {
   "cell_type": "markdown",
   "id": "95d32944",
   "metadata": {},
   "source": [
    "Python dispose de tous les opérateurs standards."
   ]
  },
  {
   "cell_type": "code",
   "execution_count": 2,
   "id": "c5095ce8",
   "metadata": {},
   "outputs": [
    {
     "data": {
      "text/plain": [
       "5"
      ]
     },
     "execution_count": 2,
     "metadata": {},
     "output_type": "execute_result"
    }
   ],
   "source": [
    "# Addition\n",
    "3+2"
   ]
  },
  {
   "cell_type": "code",
   "execution_count": 3,
   "id": "ae131d2b",
   "metadata": {},
   "outputs": [
    {
     "data": {
      "text/plain": [
       "1"
      ]
     },
     "execution_count": 3,
     "metadata": {},
     "output_type": "execute_result"
    }
   ],
   "source": [
    "# Soustraction\n",
    "3-2"
   ]
  },
  {
   "cell_type": "code",
   "execution_count": 4,
   "id": "8e0795fb",
   "metadata": {},
   "outputs": [
    {
     "data": {
      "text/plain": [
       "6"
      ]
     },
     "execution_count": 4,
     "metadata": {},
     "output_type": "execute_result"
    }
   ],
   "source": [
    "# Multiplication\n",
    "3*2"
   ]
  },
  {
   "cell_type": "code",
   "execution_count": 5,
   "id": "ae6eaf8d",
   "metadata": {},
   "outputs": [
    {
     "data": {
      "text/plain": [
       "1.5"
      ]
     },
     "execution_count": 5,
     "metadata": {},
     "output_type": "execute_result"
    }
   ],
   "source": [
    "# Division\n",
    "3/2"
   ]
  },
  {
   "cell_type": "code",
   "execution_count": 6,
   "id": "4d575bb8",
   "metadata": {},
   "outputs": [
    {
     "data": {
      "text/plain": [
       "1"
      ]
     },
     "execution_count": 6,
     "metadata": {},
     "output_type": "execute_result"
    }
   ],
   "source": [
    "# Division entière\n",
    "3//2"
   ]
  },
  {
   "cell_type": "code",
   "execution_count": 7,
   "id": "27611b87",
   "metadata": {},
   "outputs": [
    {
     "data": {
      "text/plain": [
       "1"
      ]
     },
     "execution_count": 7,
     "metadata": {},
     "output_type": "execute_result"
    }
   ],
   "source": [
    "# Modulo\n",
    "3%2"
   ]
  },
  {
   "cell_type": "code",
   "execution_count": 8,
   "id": "6764cdd7",
   "metadata": {},
   "outputs": [
    {
     "data": {
      "text/plain": [
       "9"
      ]
     },
     "execution_count": 8,
     "metadata": {},
     "output_type": "execute_result"
    }
   ],
   "source": [
    "# Puissance\n",
    "3**2"
   ]
  },
  {
   "cell_type": "markdown",
   "id": "9463c1ec",
   "metadata": {},
   "source": [
    "Python suit les priorités classiques des mathématiques _i.e_, les multiplications sont prioritaires sur les additions, les opérations entre parenthèses sont prioritaires etc."
   ]
  },
  {
   "cell_type": "code",
   "execution_count": 9,
   "id": "b794c047",
   "metadata": {},
   "outputs": [
    {
     "data": {
      "text/plain": [
       "7"
      ]
     },
     "execution_count": 9,
     "metadata": {},
     "output_type": "execute_result"
    }
   ],
   "source": [
    "1+2*3"
   ]
  },
  {
   "cell_type": "code",
   "execution_count": 10,
   "id": "c1b5e3ff",
   "metadata": {},
   "outputs": [
    {
     "data": {
      "text/plain": [
       "9"
      ]
     },
     "execution_count": 10,
     "metadata": {},
     "output_type": "execute_result"
    }
   ],
   "source": [
    "(1+2)*3"
   ]
  },
  {
   "cell_type": "markdown",
   "id": "cf326b33",
   "metadata": {},
   "source": [
    "## 3-Les variables"
   ]
  },
  {
   "cell_type": "markdown",
   "id": "af0f97ac",
   "metadata": {},
   "source": [
    "Une variable est un emplacement mémoire auquel on attache un nom qui permettra de facilement y accéder. En Python, on préfèrera des nom de variable le plus explicite possible et en minuscules."
   ]
  },
  {
   "cell_type": "code",
   "execution_count": 11,
   "id": "d94b8991",
   "metadata": {},
   "outputs": [],
   "source": [
    "#variable 1\n",
    "var1 = 1\n",
    "\n",
    "# variable voiture\n",
    "voiture = \"automobile\"\n",
    "\n",
    "# variable taux\n",
    "taux = 1.2365897421"
   ]
  },
  {
   "cell_type": "markdown",
   "id": "761a940a",
   "metadata": {},
   "source": [
    "On peut faire des opérations sur les variables et assigner le resultat à une autre variable:"
   ]
  },
  {
   "cell_type": "code",
   "execution_count": 12,
   "id": "55ed0d0f",
   "metadata": {},
   "outputs": [
    {
     "name": "stdout",
     "output_type": "stream",
     "text": [
      "-198.0\n"
     ]
    }
   ],
   "source": [
    "# variables 1, 2 & 3\n",
    "var1 = 12.\n",
    "var2 = -5\n",
    "var3 = 42\n",
    "\n",
    "# Operations\n",
    "resultat = var1 + var2 * var3\n",
    "print(resultat)"
   ]
  },
  {
   "cell_type": "markdown",
   "id": "f0108719",
   "metadata": {},
   "source": [
    "**/!\\ Attention aux affectations de variables**"
   ]
  },
  {
   "cell_type": "code",
   "execution_count": 13,
   "id": "44a94a20",
   "metadata": {},
   "outputs": [
    {
     "name": "stdout",
     "output_type": "stream",
     "text": [
      "22\n"
     ]
    }
   ],
   "source": [
    "var1 = 11\n",
    "# Là on va écraser la première valeur affectée\n",
    "var1 = 22\n",
    "print(var1)"
   ]
  },
  {
   "cell_type": "code",
   "execution_count": 14,
   "id": "9eb3775f",
   "metadata": {},
   "outputs": [
    {
     "name": "stdout",
     "output_type": "stream",
     "text": [
      "22\n"
     ]
    }
   ],
   "source": [
    "# Idem ici\n",
    "var1 = 11\n",
    "var2 = 22\n",
    "var1 = var2\n",
    "print(var1)"
   ]
  },
  {
   "cell_type": "markdown",
   "id": "9a4a90aa",
   "metadata": {},
   "source": [
    "## 4-Les types"
   ]
  },
  {
   "cell_type": "markdown",
   "id": "d5349cd7",
   "metadata": {},
   "source": [
    "Les principaux types de données en Python sont les suivant:\n",
    "- **int**: les entiers\n",
    "- **float**: les réels\n",
    "- **complex**: les complexes\n",
    "\n",
    "Il existe également les chaînes de caractères **str** (cf point 5)."
   ]
  },
  {
   "cell_type": "code",
   "execution_count": 15,
   "id": "e8c6af4e",
   "metadata": {},
   "outputs": [
    {
     "name": "stdout",
     "output_type": "stream",
     "text": [
      "1 -3 0\n"
     ]
    }
   ],
   "source": [
    "# Integers\n",
    "# il n'y a pas de point après le chiffre, il sera donc considéré par défaut comme un entier\n",
    "i1 = 1 \n",
    "i2 = -3 \n",
    "i3 = 0\n",
    "print(i1, i2, i3)"
   ]
  },
  {
   "cell_type": "code",
   "execution_count": 16,
   "id": "104731b8",
   "metadata": {},
   "outputs": [
    {
     "name": "stdout",
     "output_type": "stream",
     "text": [
      "1.456987 -3.4 0.0\n"
     ]
    }
   ],
   "source": [
    "# Float\n",
    "# il y a un point à la fin ou dans le nombre, il sera donc considéré par défaut comme un float\n",
    "f1 = 1.456987\n",
    "f2 = -3.4\n",
    "f3 = 0.\n",
    "print(f1, f2, f3)"
   ]
  },
  {
   "cell_type": "code",
   "execution_count": 17,
   "id": "f4e4e321",
   "metadata": {},
   "outputs": [
    {
     "name": "stdout",
     "output_type": "stream",
     "text": [
      "(1+4j) 27j (56+0j)\n"
     ]
    }
   ],
   "source": [
    "# Complex\n",
    "#Les complexes utilisent la lettre 'j' pour marquer la partie imaginaire\n",
    "c1 = 1.0+4.j\n",
    "c2 = 0.+27j\n",
    "c3 = 56.+0j\n",
    "print(c1, c2, c3)"
   ]
  },
  {
   "cell_type": "markdown",
   "id": "195757d7",
   "metadata": {},
   "source": [
    "## 5- Les chaînes de caractères"
   ]
  },
  {
   "cell_type": "code",
   "execution_count": null,
   "id": "e9ae90aa",
   "metadata": {},
   "outputs": [],
   "source": []
  }
 ],
 "metadata": {
  "celltoolbar": "Aucun(e)",
  "kernelspec": {
   "display_name": "Python 3",
   "language": "python",
   "name": "python3"
  },
  "language_info": {
   "codemirror_mode": {
    "name": "ipython",
    "version": 3
   },
   "file_extension": ".py",
   "mimetype": "text/x-python",
   "name": "python",
   "nbconvert_exporter": "python",
   "pygments_lexer": "ipython3",
   "version": "3.8.8"
  }
 },
 "nbformat": 4,
 "nbformat_minor": 5
}
