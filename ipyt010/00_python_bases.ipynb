{
 "cells": [
  {
   "cell_type": "markdown",
   "id": "4be41b83",
   "metadata": {},
   "source": [
    "_IPYT010_"
   ]
  },
  {
   "cell_type": "markdown",
   "id": "8c500f37",
   "metadata": {},
   "source": [
    "# Python: les bases"
   ]
  },
  {
   "cell_type": "markdown",
   "id": "f31ca78a",
   "metadata": {},
   "source": [
    "**/!\\ Tous les exemples ci-après sont réalisés en mode \"console\".**"
   ]
  },
  {
   "cell_type": "markdown",
   "id": "cc8a0f6a",
   "metadata": {},
   "source": [
    "## 1-\"Hello world!\""
   ]
  },
  {
   "cell_type": "markdown",
   "id": "22707af4",
   "metadata": {},
   "source": [
    "Comparé à d'autres langages de programmation, le `Python` est relativement simple. L'exemple typique consistant à afficher le message \"Hello world!\" est produit avec la ligne de code suivante:"
   ]
  },
  {
   "cell_type": "code",
   "execution_count": null,
   "id": "48e00070",
   "metadata": {},
   "outputs": [],
   "source": [
    "print(\"Hello world!\")"
   ]
  },
  {
   "cell_type": "markdown",
   "id": "8142e701",
   "metadata": {},
   "source": [
    "## 2-Les opérateurs de base"
   ]
  },
  {
   "cell_type": "markdown",
   "id": "2de79922",
   "metadata": {},
   "source": [
    "Python dispose de tous les opérateurs standards."
   ]
  },
  {
   "cell_type": "code",
   "execution_count": null,
   "id": "1fdd2c03",
   "metadata": {},
   "outputs": [],
   "source": [
    "# Addition\n",
    "3+2"
   ]
  },
  {
   "cell_type": "code",
   "execution_count": null,
   "id": "5ca63bcb",
   "metadata": {},
   "outputs": [],
   "source": [
    "# Soustraction\n",
    "3-2"
   ]
  },
  {
   "cell_type": "code",
   "execution_count": null,
   "id": "160b251c",
   "metadata": {},
   "outputs": [],
   "source": [
    "# Multiplication\n",
    "3*2"
   ]
  },
  {
   "cell_type": "code",
   "execution_count": null,
   "id": "c15a63e3",
   "metadata": {},
   "outputs": [],
   "source": [
    "# Division\n",
    "3/2"
   ]
  },
  {
   "cell_type": "code",
   "execution_count": null,
   "id": "ac804d43",
   "metadata": {},
   "outputs": [],
   "source": [
    "# Division entière\n",
    "3//2"
   ]
  },
  {
   "cell_type": "code",
   "execution_count": null,
   "id": "327a638c",
   "metadata": {},
   "outputs": [],
   "source": [
    "# Modulo\n",
    "3%2"
   ]
  },
  {
   "cell_type": "code",
   "execution_count": null,
   "id": "a30fb352",
   "metadata": {},
   "outputs": [],
   "source": [
    "# Puissance\n",
    "3**2"
   ]
  },
  {
   "cell_type": "markdown",
   "id": "03242d6b",
   "metadata": {},
   "source": [
    "Python suit les priorités classiques des mathématiques _i.e_, les multiplications sont prioritaires sur les additions, les opérations entre parenthèses sont prioritaires etc."
   ]
  },
  {
   "cell_type": "code",
   "execution_count": null,
   "id": "3b97aa7d",
   "metadata": {},
   "outputs": [],
   "source": [
    "1+2*3"
   ]
  },
  {
   "cell_type": "code",
   "execution_count": null,
   "id": "56fd65da",
   "metadata": {},
   "outputs": [],
   "source": [
    "(1+2)*3"
   ]
  },
  {
   "cell_type": "markdown",
   "id": "3fc86199",
   "metadata": {},
   "source": [
    "## 3-Les variables"
   ]
  },
  {
   "cell_type": "markdown",
   "id": "fdaac75b",
   "metadata": {},
   "source": [
    "Une variable est un emplacement mémoire auquel on attache un nom qui permettra de facilement y accéder. En Python, on préfèrera des nom de variable le plus explicite possible et en minuscules."
   ]
  },
  {
   "cell_type": "code",
   "execution_count": null,
   "id": "71566f78",
   "metadata": {},
   "outputs": [],
   "source": [
    "#variable 1\n",
    "var1 = 1\n",
    "\n",
    "# variable voiture\n",
    "voiture = \"automobile\"\n",
    "\n",
    "# variable taux\n",
    "taux = 1.2365897421"
   ]
  },
  {
   "cell_type": "markdown",
   "id": "29ce98ab",
   "metadata": {},
   "source": [
    "On peut faire des opérations sur les variables et assigner le resultat à une autre variable:"
   ]
  },
  {
   "cell_type": "code",
   "execution_count": null,
   "id": "f5daaf17",
   "metadata": {},
   "outputs": [],
   "source": [
    "# variables 1, 2 & 3\n",
    "var1 = 12.\n",
    "var2 = -5\n",
    "var3 = 42\n",
    "\n",
    "# Operations\n",
    "resultat = var1 + var2 * var3\n",
    "print(resultat)"
   ]
  },
  {
   "cell_type": "markdown",
   "id": "9860f86e",
   "metadata": {},
   "source": [
    "**/!\\ Attention aux affectations de variables**"
   ]
  },
  {
   "cell_type": "code",
   "execution_count": null,
   "id": "bba2b9d6",
   "metadata": {},
   "outputs": [],
   "source": [
    "var1 = 11\n",
    "# Là on va écraser la première valeur affectée\n",
    "var1 = 22\n",
    "print(var1)"
   ]
  },
  {
   "cell_type": "code",
   "execution_count": null,
   "id": "472776f4",
   "metadata": {},
   "outputs": [],
   "source": [
    "# Idem ici\n",
    "var1 = 11\n",
    "var2 = 22\n",
    "var1 = var2\n",
    "print(var1)"
   ]
  },
  {
   "cell_type": "markdown",
   "id": "f73e3085",
   "metadata": {},
   "source": [
    "## 4-Les types"
   ]
  },
  {
   "cell_type": "markdown",
   "id": "37d62e36",
   "metadata": {},
   "source": [
    "Les principaux types de données en Python sont les suivant:\n",
    "- **int**: les entiers\n",
    "- **float**: les réels\n",
    "- **complex**: les complexes\n",
    "\n",
    "Il existe également les chaînes de caractères **str** (cf point 5)."
   ]
  },
  {
   "cell_type": "code",
   "execution_count": null,
   "id": "e3f60a93",
   "metadata": {},
   "outputs": [],
   "source": [
    "# Integers\n",
    "# il n'y a pas de point après le chiffre, il sera donc considéré par défaut comme un entier\n",
    "i1 = 1 \n",
    "i2 = -3 \n",
    "i3 = 0\n",
    "print(i1, i2, i3)"
   ]
  },
  {
   "cell_type": "code",
   "execution_count": null,
   "id": "ff269c8d",
   "metadata": {},
   "outputs": [],
   "source": [
    "# Float\n",
    "# il y a un point à la fin ou dans le nombre, il sera donc considéré par défaut comme un float\n",
    "f1 = 1.456987\n",
    "f2 = -3.4\n",
    "f3 = 0.\n",
    "print(f1, f2, f3)"
   ]
  },
  {
   "cell_type": "code",
   "execution_count": null,
   "id": "06377cb4",
   "metadata": {},
   "outputs": [],
   "source": [
    "# Complex\n",
    "#Les complexes utilisent la lettre 'j' pour marquer la partie imaginaire\n",
    "c1 = 1.0+4.j\n",
    "c2 = 0.+27j\n",
    "c3 = 56.+0j\n",
    "print(c1, c2, c3)"
   ]
  },
  {
   "cell_type": "markdown",
   "id": "a707d956",
   "metadata": {},
   "source": [
    "## 5- Les chaînes de caractères"
   ]
  },
  {
   "cell_type": "code",
   "execution_count": null,
   "id": "56211834",
   "metadata": {},
   "outputs": [],
   "source": []
  }
 ],
 "metadata": {
  "celltoolbar": "Aucun(e)",
  "kernelspec": {
   "display_name": "Python 3",
   "language": "python",
   "name": "python3"
  },
  "language_info": {
   "codemirror_mode": {
    "name": "ipython",
    "version": 3
   },
   "file_extension": ".py",
   "mimetype": "text/x-python",
   "name": "python",
   "nbconvert_exporter": "python",
   "pygments_lexer": "ipython3",
   "version": "3.8.8"
  }
 },
 "nbformat": 4,
 "nbformat_minor": 5
}
