{
 "cells": [
  {
   "cell_type": "markdown",
   "id": "c497e601",
   "metadata": {},
   "source": [
    "_IPYT010_"
   ]
  },
  {
   "cell_type": "markdown",
   "id": "3e0d3919",
   "metadata": {},
   "source": [
    "# Python: les bases"
   ]
  },
  {
   "cell_type": "markdown",
   "id": "826b6b75",
   "metadata": {},
   "source": [
    "<p style=\"color:#FF0000\";> /!\\ Tous les exemples ci-après sont réalisés en mode \"console\".</p>"
   ]
  },
  {
   "cell_type": "markdown",
   "id": "97b6ed89",
   "metadata": {},
   "source": [
    "## 1-\"Hello world!\""
   ]
  },
  {
   "cell_type": "markdown",
   "id": "c0a04859",
   "metadata": {},
   "source": [
    "Comparé à d'autres langages de programmation, le `Python` est relativement simple. L'exemple typique consistant à afficher le message \"Hello world!\" est produit avec la ligne de code suivante:"
   ]
  },
  {
   "cell_type": "code",
   "execution_count": 1,
   "id": "2f9c386b",
   "metadata": {},
   "outputs": [
    {
     "name": "stdout",
     "output_type": "stream",
     "text": [
      "Hello world!\n"
     ]
    }
   ],
   "source": [
    "print(\"Hello world!\")"
   ]
  },
  {
   "cell_type": "markdown",
   "id": "93d79033",
   "metadata": {},
   "source": [
    "## 2-Les opérateurs de base"
   ]
  },
  {
   "cell_type": "markdown",
   "id": "b0f9f1bc",
   "metadata": {},
   "source": [
    "Python dispose de tous les opérateurs standards."
   ]
  },
  {
   "cell_type": "code",
   "execution_count": 6,
   "id": "4c7b473b",
   "metadata": {},
   "outputs": [
    {
     "data": {
      "text/plain": [
       "5"
      ]
     },
     "execution_count": 6,
     "metadata": {},
     "output_type": "execute_result"
    }
   ],
   "source": [
    "# Addition\n",
    "3+2"
   ]
  },
  {
   "cell_type": "code",
   "execution_count": 7,
   "id": "a6787241",
   "metadata": {},
   "outputs": [
    {
     "data": {
      "text/plain": [
       "1"
      ]
     },
     "execution_count": 7,
     "metadata": {},
     "output_type": "execute_result"
    }
   ],
   "source": [
    "# Soustraction\n",
    "3-2"
   ]
  },
  {
   "cell_type": "code",
   "execution_count": 8,
   "id": "6b674918",
   "metadata": {},
   "outputs": [
    {
     "data": {
      "text/plain": [
       "6"
      ]
     },
     "execution_count": 8,
     "metadata": {},
     "output_type": "execute_result"
    }
   ],
   "source": [
    "# Multiplication\n",
    "3*2"
   ]
  },
  {
   "cell_type": "code",
   "execution_count": 9,
   "id": "df9f8587",
   "metadata": {},
   "outputs": [
    {
     "data": {
      "text/plain": [
       "1.5"
      ]
     },
     "execution_count": 9,
     "metadata": {},
     "output_type": "execute_result"
    }
   ],
   "source": [
    "# Division\n",
    "3/2"
   ]
  },
  {
   "cell_type": "code",
   "execution_count": 11,
   "id": "a7a46ec5",
   "metadata": {},
   "outputs": [
    {
     "data": {
      "text/plain": [
       "1"
      ]
     },
     "execution_count": 11,
     "metadata": {},
     "output_type": "execute_result"
    }
   ],
   "source": [
    "# Division entière\n",
    "3//2"
   ]
  },
  {
   "cell_type": "code",
   "execution_count": 10,
   "id": "54c38556",
   "metadata": {},
   "outputs": [
    {
     "data": {
      "text/plain": [
       "1"
      ]
     },
     "execution_count": 10,
     "metadata": {},
     "output_type": "execute_result"
    }
   ],
   "source": [
    "# Modulo\n",
    "3%2"
   ]
  },
  {
   "cell_type": "code",
   "execution_count": 12,
   "id": "fd3fd385",
   "metadata": {},
   "outputs": [
    {
     "data": {
      "text/plain": [
       "9"
      ]
     },
     "execution_count": 12,
     "metadata": {},
     "output_type": "execute_result"
    }
   ],
   "source": [
    "# Puissance\n",
    "3**2"
   ]
  },
  {
   "cell_type": "markdown",
   "id": "5ed00a08",
   "metadata": {},
   "source": [
    "Python suit les priorités classiques des mathématiques _i.e_, les multiplications sont prioritaires sur les additions, les opérations entre parenthèses sont prioritaires etc."
   ]
  },
  {
   "cell_type": "code",
   "execution_count": 13,
   "id": "adc71eb1",
   "metadata": {},
   "outputs": [
    {
     "data": {
      "text/plain": [
       "7"
      ]
     },
     "execution_count": 13,
     "metadata": {},
     "output_type": "execute_result"
    }
   ],
   "source": [
    "1+2*3"
   ]
  },
  {
   "cell_type": "code",
   "execution_count": 14,
   "id": "b437237d",
   "metadata": {},
   "outputs": [
    {
     "data": {
      "text/plain": [
       "9"
      ]
     },
     "execution_count": 14,
     "metadata": {},
     "output_type": "execute_result"
    }
   ],
   "source": [
    "(1+2)*3"
   ]
  },
  {
   "cell_type": "code",
   "execution_count": null,
   "id": "60376700",
   "metadata": {},
   "outputs": [],
   "source": []
  }
 ],
 "metadata": {
  "kernelspec": {
   "display_name": "Python 3",
   "language": "python",
   "name": "python3"
  },
  "language_info": {
   "codemirror_mode": {
    "name": "ipython",
    "version": 3
   },
   "file_extension": ".py",
   "mimetype": "text/x-python",
   "name": "python",
   "nbconvert_exporter": "python",
   "pygments_lexer": "ipython3",
   "version": "3.8.8"
  }
 },
 "nbformat": 4,
 "nbformat_minor": 5
}
