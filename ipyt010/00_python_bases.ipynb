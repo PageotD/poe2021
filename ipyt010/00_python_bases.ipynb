{
 "cells": [
  {
   "cell_type": "markdown",
   "id": "dfa320d0",
   "metadata": {},
   "source": [
    "_IPYT010_"
   ]
  },
  {
   "cell_type": "markdown",
   "id": "9daf7fa5",
   "metadata": {},
   "source": [
    "# Python: les bases"
   ]
  },
  {
   "cell_type": "markdown",
   "id": "0d5634ae",
   "metadata": {},
   "source": [
    "**/!\\ Tous les exemples ci-après sont réalisés en mode \"console\".**"
   ]
  },
  {
   "cell_type": "markdown",
   "id": "979f1bf1",
   "metadata": {},
   "source": [
    "## 1-\"Hello world!\""
   ]
  },
  {
   "cell_type": "markdown",
   "id": "c2c1fc49",
   "metadata": {},
   "source": [
    "Comparé à d'autres langages de programmation, le `Python` est relativement simple. L'exemple typique consistant à afficher le message \"Hello world!\" est produit avec la ligne de code suivante:"
   ]
  },
  {
   "cell_type": "code",
   "execution_count": null,
   "id": "7f7897e7",
   "metadata": {},
   "outputs": [],
   "source": [
    "print(\"Hello world!\")"
   ]
  },
  {
   "cell_type": "markdown",
   "id": "f642a4f0",
   "metadata": {},
   "source": [
    "## 2-Les opérateurs de base"
   ]
  },
  {
   "cell_type": "markdown",
   "id": "3160b164",
   "metadata": {},
   "source": [
    "Python dispose de tous les opérateurs standards."
   ]
  },
  {
   "cell_type": "code",
   "execution_count": null,
   "id": "05776781",
   "metadata": {},
   "outputs": [],
   "source": [
    "# Addition\n",
    "3+2"
   ]
  },
  {
   "cell_type": "code",
   "execution_count": null,
   "id": "215772e1",
   "metadata": {},
   "outputs": [],
   "source": [
    "# Soustraction\n",
    "3-2"
   ]
  },
  {
   "cell_type": "code",
   "execution_count": null,
   "id": "95a495a9",
   "metadata": {},
   "outputs": [],
   "source": [
    "# Multiplication\n",
    "3*2"
   ]
  },
  {
   "cell_type": "code",
   "execution_count": null,
   "id": "69806203",
   "metadata": {},
   "outputs": [],
   "source": [
    "# Division\n",
    "3/2"
   ]
  },
  {
   "cell_type": "code",
   "execution_count": null,
   "id": "82ddb41b",
   "metadata": {},
   "outputs": [],
   "source": [
    "# Division entière\n",
    "3//2"
   ]
  },
  {
   "cell_type": "code",
   "execution_count": null,
   "id": "66f8a12f",
   "metadata": {},
   "outputs": [],
   "source": [
    "# Modulo\n",
    "3%2"
   ]
  },
  {
   "cell_type": "code",
   "execution_count": null,
   "id": "beaf433d",
   "metadata": {},
   "outputs": [],
   "source": [
    "# Puissance\n",
    "3**2"
   ]
  },
  {
   "cell_type": "markdown",
   "id": "80030f43",
   "metadata": {},
   "source": [
    "Python suit les priorités classiques des mathématiques _i.e_, les multiplications sont prioritaires sur les additions, les opérations entre parenthèses sont prioritaires etc."
   ]
  },
  {
   "cell_type": "code",
   "execution_count": null,
   "id": "2e0b6975",
   "metadata": {},
   "outputs": [],
   "source": [
    "1+2*3"
   ]
  },
  {
   "cell_type": "code",
   "execution_count": null,
   "id": "804ab540",
   "metadata": {},
   "outputs": [],
   "source": [
    "(1+2)*3"
   ]
  },
  {
   "cell_type": "markdown",
   "id": "5b490795",
   "metadata": {},
   "source": [
    "## 3-Les variables"
   ]
  },
  {
   "cell_type": "markdown",
   "id": "446451bb",
   "metadata": {},
   "source": [
    "Une variable est un emplacement mémoire auquel on attache un nom qui permettra de facilement y accéder. En Python, on préfèrera des nom de variable le plus explicite possible et en minuscules."
   ]
  },
  {
   "cell_type": "code",
   "execution_count": 3,
   "id": "60dc59b6",
   "metadata": {},
   "outputs": [],
   "source": [
    "#variable 1\n",
    "var1 = 1\n",
    "\n",
    "# variable voiture\n",
    "voiture = \"automobile\"\n",
    "\n",
    "# variable taux\n",
    "taux = 1.2365897421"
   ]
  },
  {
   "cell_type": "markdown",
   "id": "fa20df44",
   "metadata": {},
   "source": [
    "On peut faire des opérations sur les variables et assigner le resultat à une autre variable:"
   ]
  },
  {
   "cell_type": "code",
   "execution_count": 4,
   "id": "0d258460",
   "metadata": {},
   "outputs": [
    {
     "name": "stdout",
     "output_type": "stream",
     "text": [
      "-198.0\n"
     ]
    }
   ],
   "source": [
    "# variables 1, 2 & 3\n",
    "var1 = 12.\n",
    "var2 = -5\n",
    "var3 = 42\n",
    "\n",
    "# Operations\n",
    "resultat = var1 + var2 * var3\n",
    "print(resultat)"
   ]
  },
  {
   "cell_type": "markdown",
   "id": "c6a00150",
   "metadata": {},
   "source": [
    "**/!\\ Attention aux affectations de variables**"
   ]
  },
  {
   "cell_type": "code",
   "execution_count": 5,
   "id": "3e4251b4",
   "metadata": {},
   "outputs": [
    {
     "name": "stdout",
     "output_type": "stream",
     "text": [
      "22\n"
     ]
    }
   ],
   "source": [
    "var1 = 11\n",
    "# Là on va écraser la première valeur affectée\n",
    "var1 = 22\n",
    "print(var1)"
   ]
  },
  {
   "cell_type": "code",
   "execution_count": 6,
   "id": "36016818",
   "metadata": {},
   "outputs": [
    {
     "name": "stdout",
     "output_type": "stream",
     "text": [
      "22\n"
     ]
    }
   ],
   "source": [
    "# Idem ici\n",
    "var1 = 11\n",
    "var2 = 22\n",
    "var1 = var2\n",
    "print(var1)"
   ]
  },
  {
   "cell_type": "markdown",
   "id": "6de13b5f",
   "metadata": {},
   "source": [
    "## 4-Les types"
   ]
  },
  {
   "cell_type": "markdown",
   "id": "5f43dc27",
   "metadata": {},
   "source": [
    "Les principaux types de données en Python sont les suivant:\n",
    "- **int**: les entiers\n",
    "- **float**: les réels\n",
    "- **complex**: les complexes\n",
    "\n",
    "Il existe également les chaînes de caractères **str** (cf point 5)."
   ]
  },
  {
   "cell_type": "code",
   "execution_count": 12,
   "id": "bd3c6781",
   "metadata": {},
   "outputs": [
    {
     "name": "stdout",
     "output_type": "stream",
     "text": [
      "1 -3 0\n"
     ]
    }
   ],
   "source": [
    "# Integers\n",
    "# il n'y a pas de point après le chiffre, il sera donc considéré par défaut comme un entier\n",
    "i1 = 1 \n",
    "i2 = -3 \n",
    "i3 = 0\n",
    "print(i1, i2, i3)"
   ]
  },
  {
   "cell_type": "code",
   "execution_count": 13,
   "id": "8d71cca8",
   "metadata": {},
   "outputs": [
    {
     "name": "stdout",
     "output_type": "stream",
     "text": [
      "1.456987 -3.4 0.0\n"
     ]
    }
   ],
   "source": [
    "# Float\n",
    "# il y a un point à la fin ou dans le nombre, il sera donc considéré par défaut comme un float\n",
    "f1 = 1.456987\n",
    "f2 = -3.4\n",
    "f3 = 0.\n",
    "print(f1, f2, f3)"
   ]
  },
  {
   "cell_type": "code",
   "execution_count": 14,
   "id": "74932750",
   "metadata": {},
   "outputs": [
    {
     "name": "stdout",
     "output_type": "stream",
     "text": [
      "(1+4j) 27j (56+0j)\n"
     ]
    }
   ],
   "source": [
    "# Complex\n",
    "#Les complexes utilisent la lettre 'j' pour marquer la partie imaginaire\n",
    "c1 = 1.0+4.j\n",
    "c2 = 0.+27j\n",
    "c3 = 56.+0j\n",
    "print(c1, c2, c3)"
   ]
  },
  {
   "cell_type": "code",
   "execution_count": null,
   "id": "085a11fd",
   "metadata": {},
   "outputs": [],
   "source": []
  }
 ],
 "metadata": {
  "celltoolbar": "Aucun(e)",
  "kernelspec": {
   "display_name": "Python 3",
   "language": "python",
   "name": "python3"
  },
  "language_info": {
   "codemirror_mode": {
    "name": "ipython",
    "version": 3
   },
   "file_extension": ".py",
   "mimetype": "text/x-python",
   "name": "python",
   "nbconvert_exporter": "python",
   "pygments_lexer": "ipython3",
   "version": "3.8.8"
  }
 },
 "nbformat": 4,
 "nbformat_minor": 5
}
