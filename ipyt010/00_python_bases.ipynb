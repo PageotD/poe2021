{
 "cells": [
  {
   "cell_type": "markdown",
   "id": "c529ded3",
   "metadata": {},
   "source": [
    "_IPYT010_"
   ]
  },
  {
   "cell_type": "markdown",
   "id": "6c28bdd4",
   "metadata": {},
   "source": [
    "# Python: les bases"
   ]
  },
  {
   "cell_type": "markdown",
   "id": "9a645d93",
   "metadata": {},
   "source": [
    "**/!\\ Tous les exemples ci-après sont réalisés en mode \"console\".**"
   ]
  },
  {
   "cell_type": "markdown",
   "id": "79f0e93e",
   "metadata": {},
   "source": [
    "## 1-\"Hello world!\""
   ]
  },
  {
   "cell_type": "markdown",
   "id": "2b37eda3",
   "metadata": {},
   "source": [
    "Comparé à d'autres langages de programmation, le `Python` est relativement simple. L'exemple typique consistant à afficher le message \"Hello world!\" est produit avec la ligne de code suivante:"
   ]
  },
  {
   "cell_type": "code",
   "execution_count": null,
   "id": "def29281",
   "metadata": {},
   "outputs": [],
   "source": [
    "print(\"Hello world!\")"
   ]
  },
  {
   "cell_type": "markdown",
   "id": "3a7b5381",
   "metadata": {},
   "source": [
    "## 2-Les opérateurs de base"
   ]
  },
  {
   "cell_type": "markdown",
   "id": "a8189956",
   "metadata": {},
   "source": [
    "Python dispose de tous les opérateurs standards."
   ]
  },
  {
   "cell_type": "code",
   "execution_count": null,
   "id": "13cce260",
   "metadata": {},
   "outputs": [],
   "source": [
    "# Addition\n",
    "3+2"
   ]
  },
  {
   "cell_type": "code",
   "execution_count": null,
   "id": "20dca273",
   "metadata": {},
   "outputs": [],
   "source": [
    "# Soustraction\n",
    "3-2"
   ]
  },
  {
   "cell_type": "code",
   "execution_count": null,
   "id": "24596c3a",
   "metadata": {},
   "outputs": [],
   "source": [
    "# Multiplication\n",
    "3*2"
   ]
  },
  {
   "cell_type": "code",
   "execution_count": null,
   "id": "68962b6f",
   "metadata": {},
   "outputs": [],
   "source": [
    "# Division\n",
    "3/2"
   ]
  },
  {
   "cell_type": "code",
   "execution_count": null,
   "id": "e73cda89",
   "metadata": {},
   "outputs": [],
   "source": [
    "# Division entière\n",
    "3//2"
   ]
  },
  {
   "cell_type": "code",
   "execution_count": null,
   "id": "be50fc73",
   "metadata": {},
   "outputs": [],
   "source": [
    "# Modulo\n",
    "3%2"
   ]
  },
  {
   "cell_type": "code",
   "execution_count": null,
   "id": "5f435643",
   "metadata": {},
   "outputs": [],
   "source": [
    "# Puissance\n",
    "3**2"
   ]
  },
  {
   "cell_type": "markdown",
   "id": "0f397230",
   "metadata": {},
   "source": [
    "Python suit les priorités classiques des mathématiques _i.e_, les multiplications sont prioritaires sur les additions, les opérations entre parenthèses sont prioritaires etc."
   ]
  },
  {
   "cell_type": "code",
   "execution_count": null,
   "id": "cbeef0e5",
   "metadata": {},
   "outputs": [],
   "source": [
    "1+2*3"
   ]
  },
  {
   "cell_type": "code",
   "execution_count": null,
   "id": "44763439",
   "metadata": {},
   "outputs": [],
   "source": [
    "(1+2)*3"
   ]
  },
  {
   "cell_type": "markdown",
   "id": "985e2ce9",
   "metadata": {},
   "source": [
    "## 3-Les variables"
   ]
  },
  {
   "cell_type": "markdown",
   "id": "892830c0",
   "metadata": {},
   "source": [
    "Une variable est un emplacement mémoire auquel on attache un nom qui permettra de facilement y accéder. En Python, on préfèrera des nom de variable le plus explicite possible et en minuscules."
   ]
  },
  {
   "cell_type": "code",
   "execution_count": null,
   "id": "79314728",
   "metadata": {},
   "outputs": [],
   "source": [
    "#variable 1\n",
    "var1 = 1\n",
    "\n",
    "# variable voiture\n",
    "voiture = \"automobile\"\n",
    "\n",
    "# variable taux\n",
    "taux = 1.2365897421"
   ]
  },
  {
   "cell_type": "code",
   "execution_count": null,
   "id": "fa89b301",
   "metadata": {},
   "outputs": [],
   "source": []
  }
 ],
 "metadata": {
  "celltoolbar": "Aucun(e)",
  "kernelspec": {
   "display_name": "Python 3",
   "language": "python",
   "name": "python3"
  },
  "language_info": {
   "codemirror_mode": {
    "name": "ipython",
    "version": 3
   },
   "file_extension": ".py",
   "mimetype": "text/x-python",
   "name": "python",
   "nbconvert_exporter": "python",
   "pygments_lexer": "ipython3",
   "version": "3.8.8"
  }
 },
 "nbformat": 4,
 "nbformat_minor": 5
}
